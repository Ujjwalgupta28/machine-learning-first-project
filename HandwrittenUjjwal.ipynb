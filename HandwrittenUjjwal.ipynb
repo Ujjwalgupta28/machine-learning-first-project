{
  "nbformat": 4,
  "nbformat_minor": 0,
  "metadata": {
    "colab": {
      "provenance": [],
      "include_colab_link": true
    },
    "kernelspec": {
      "name": "python3",
      "display_name": "Python 3"
    },
    "language_info": {
      "name": "python"
    }
  },
  "cells": [
    {
      "cell_type": "markdown",
      "metadata": {
        "id": "view-in-github",
        "colab_type": "text"
      },
      "source": [
        "<a href=\"https://colab.research.google.com/github/Nuclei-7/FirstMachineLearningModel/blob/main/HandwrittenGovind.ipynb\" target=\"_parent\"><img src=\"https://colab.research.google.com/assets/colab-badge.svg\" alt=\"Open In Colab\"/></a>"
      ]
    },
    {
      "cell_type": "markdown",
      "source": [
        "## Fetching Dataset"
      ],
      "metadata": {
        "id": "E7i8jfuc4XqF"
      }
    },
    {
      "cell_type": "code",
      "source": [
        "from sklearn.datasets import fetch_openml\n",
        "import matplotlib\n",
        "import matplotlib.pyplot as plt\n",
        "import numpy as np\n",
        "from sklearn.linear_model import LogisticRegression\n",
        "from sklearn.model_selection import cross_val_score"
      ],
      "metadata": {
        "id": "vzKYtyAB6ffy"
      },
      "execution_count": null,
      "outputs": []
    },
    {
      "cell_type": "markdown",
      "source": [
        "\n",
        "# Fetch the dataset"
      ],
      "metadata": {
        "id": "zaLcXQh66H-w"
      }
    },
    {
      "cell_type": "code",
      "source": [
        "\n",
        "mnist = fetch_openml('mnist_784', version=1)\n",
        "x, y = mnist['data'], mnist['target']"
      ],
      "metadata": {
        "id": "YvD5sf5T6jVB"
      },
      "execution_count": null,
      "outputs": []
    },
    {
      "cell_type": "markdown",
      "source": [
        "# Example digit"
      ],
      "metadata": {
        "id": "UJHa28q86MYM"
      }
    },
    {
      "cell_type": "code",
      "source": [
        "some_digit = x.to_numpy()[36001]\n",
        "some_digit_image = some_digit.reshape(28, 28)  # Reshape to plot it"
      ],
      "metadata": {
        "id": "kOuUOJwx6mCn"
      },
      "execution_count": null,
      "outputs": []
    },
    {
      "cell_type": "markdown",
      "source": [
        "# Display the digit"
      ],
      "metadata": {
        "id": "UpSpjXCa6PtT"
      }
    },
    {
      "cell_type": "code",
      "source": [
        "plt.imshow(some_digit_image, cmap=matplotlib.cm.binary, interpolation='nearest')\n",
        "plt.axis(\"off\")\n",
        "plt.show()"
      ],
      "metadata": {
        "colab": {
          "base_uri": "https://localhost:8080/",
          "height": 406
        },
        "id": "iHENP4-P6oqx",
        "outputId": "4ee16c77-60ca-4973-86b2-f22b7796e535"
      },
      "execution_count": null,
      "outputs": [
        {
          "output_type": "display_data",
          "data": {
            "text/plain": [
              "<Figure size 640x480 with 1 Axes>"
            ],
            "image/png": "[encoded data removed]"
          },
          "metadata": {}
        }
      ]
    },
    {
      "cell_type": "markdown",
      "source": [
        "\n",
        "# Split the dataset into training and test sets"
      ],
      "metadata": {
        "id": "qSA4qA9F6R96"
      }
    },
    {
      "cell_type": "code",
      "source": [
        "x_train, x_test = x[:60000].to_numpy(), x[60000:70000].to_numpy()  # Convert to NumPy arrays\n",
        "y_train, y_test = y[:60000].to_numpy(), y[60000:70000].to_numpy()  # Convert to NumPy arrays"
      ],
      "metadata": {
        "id": "u2gOkEA26rhk"
      },
      "execution_count": null,
      "outputs": []
    },
    {
      "cell_type": "markdown",
      "source": [
        "# Shuffle the training set"
      ],
      "metadata": {
        "id": "8fQkFkS06WPP"
      }
    },
    {
      "cell_type": "code",
      "source": [
        "shuffle_index = np.random.permutation(60000)\n",
        "x_train, y_train = x_train[shuffle_index], y_train[shuffle_index]"
      ],
      "metadata": {
        "id": "BCpGXNf76uKm"
      },
      "execution_count": null,
      "outputs": []
    },
    {
      "cell_type": "markdown",
      "source": [
        "# Creating a 2-detector (binary classifier for digit 2)"
      ],
      "metadata": {
        "id": "NEYgaNcl6Zt6"
      }
    },
    {
      "cell_type": "code",
      "source": [
        "y_train = y_train.astype(np.int8)\n",
        "y_test = y_test.astype(np.int8)\n",
        "y_train_2 = (y_train == 2)  # Compare with integer 2\n",
        "y_test_2 = (y_test == 2)"
      ],
      "metadata": {
        "id": "_LwVvSKN6xrM"
      },
      "execution_count": null,
      "outputs": []
    },
    {
      "cell_type": "markdown",
      "source": [
        "\n",
        "# Train a logistic regression classifier"
      ],
      "metadata": {
        "id": "NWqTF_kc6b_9"
      }
    },
    {
      "cell_type": "code",
      "source": [
        "clf = LogisticRegression(tol=0.1)\n",
        "clf.fit(x_train, y_train_2)\n",
        "example = clf.predict([some_digit])\n",
        "print(\"Prediction for the example digit:\", example)"
      ],
      "metadata": {
        "colab": {
          "base_uri": "https://localhost:8080/"
        },
        "id": "NNirP3i960BJ",
        "outputId": "600a40c6-1956-4481-b134-009f2a08828f"
      },
      "execution_count": null,
      "outputs": [
        {
          "output_type": "stream",
          "name": "stdout",
          "text": [
            "Prediction for the example digit: [ True]\n"
          ]
        }
      ]
    },
    {
      "cell_type": "markdown",
      "source": [
        "# Cross Validation"
      ],
      "metadata": {
        "id": "pVmYOFg-6eBF"
      }
    },
    {
      "cell_type": "code",
      "source": [
        "a = cross_val_score(clf, x_train, y_train_2, cv=3, scoring=\"accuracy\")\n",
        "print(\"Cross-validation accuracy:\", a.mean())"
      ],
      "metadata": {
        "colab": {
          "base_uri": "https://localhost:8080/"
        },
        "id": "GDSPeKsC6243",
        "outputId": "8bb6f46a-3123-43a0-f2d5-f31cd2da42f6"
      },
      "execution_count": null,
      "outputs": [
        {
          "output_type": "stream",
          "name": "stdout",
          "text": [
            "Cross-validation accuracy: 0.97935\n"
          ]
        }
      ]
    }
  ]
}